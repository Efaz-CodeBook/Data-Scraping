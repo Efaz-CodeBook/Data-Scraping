{
 "cells": [
  {
   "cell_type": "code",
   "execution_count": null,
   "metadata": {},
   "outputs": [],
   "source": [
    "#Scraping through scrapy crawl:\n",
    "\n",
    "# Setting up the lab>\n",
    "\"\"\"\n",
    "Step 1: Open any terminal (cmd, bash, hyper or any) into the selected folder\n",
    "Step 2: Creating Scrapy environment>\n",
    "            scrapy startproject Techland .\n",
    "Step 3: Generating crawl spider>\n",
    "            scrapy genspider laptop -t crawl www.techlandbd.com\n",
    "Step 4: Open vs code in working folder and set user agent\n",
    "        Search the user agent and copy it to the settings.py\n",
    "            USER_AGENT = \"Mozilla/5.0 (Windows NT 10.0; Win64; x64) AppleWebKit/537.36 (KHTML, like Gecko) Chrome/114.0.0.0 Safari/537.36 Edg/114.0.1823.82\"\n",
    "            ROBOTSTXT_OBEY = False\n",
    "Step 5: Start coding in spiders/laptop.py\n",
    "Step 6: To run the written code>\n",
    "            scrapy crawl laptop\n",
    "\"\"\""
   ]
  },
  {
   "cell_type": "code",
   "execution_count": null,
   "metadata": {},
   "outputs": [],
   "source": [
    "# Scrapping the techland data-code\n",
    "# Change the default data by the following code"
   ]
  }
 ],
 "metadata": {
  "language_info": {
   "name": "python"
  },
  "orig_nbformat": 4
 },
 "nbformat": 4,
 "nbformat_minor": 2
}
