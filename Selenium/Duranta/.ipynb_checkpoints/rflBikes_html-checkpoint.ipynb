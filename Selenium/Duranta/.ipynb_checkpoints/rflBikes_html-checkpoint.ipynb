{
 "cells": [
  {
   "cell_type": "raw",
   "id": "f486935e-f5f8-4960-adcc-b0af1e6378c6",
   "metadata": {
    "tags": []
   },
   "source": [
    "* This project is for extracting rflBike info from https://rfleshop.com/ through HTML path\n",
    "* https://rfleshop.com/robots.txt: \"None\""
   ]
  },
  {
   "cell_type": "raw",
   "id": "4b862b44-b5f5-4b8e-b382-aef64f4b410f",
   "metadata": {},
   "source": [
    "# Reqired platform:\n",
    "    jupyter lab"
   ]
  },
  {
   "cell_type": "raw",
   "id": "8af1c24f-3e91-40bb-b16f-60fd1b22e4ce",
   "metadata": {},
   "source": [
    "# Reqired Library:\n",
    "    Selenium : pip install selenium\n",
    "    Webdriver Manager : pip install webdriver_manager\n",
    "    Xpath : https://scrapinghub.github.io/xpath-playground/"
   ]
  },
  {
   "cell_type": "code",
   "execution_count": null,
   "id": "39bacfe1-ee00-4ed2-be1d-332b8520f752",
   "metadata": {
    "tags": []
   },
   "outputs": [],
   "source": [
    "# Importing the Necessary Library\n",
    "from selenium import webdriver\n",
    "from time import sleep\n",
    "import pandas as pd"
   ]
  },
  {
   "cell_type": "code",
   "execution_count": null,
   "id": "c9589934-e30e-4077-9653-02a98b8a8cda",
   "metadata": {
    "tags": []
   },
   "outputs": [],
   "source": [
    "# Creating a driver Object\n",
    "driver = webdriver.Firefox()"
   ]
  },
  {
   "cell_type": "code",
   "execution_count": null,
   "id": "ecdb43ba-f281-45ae-85f0-42d255af03ae",
   "metadata": {
    "tags": []
   },
   "outputs": [],
   "source": [
    "# Declaring the URL\n",
    "url = \"https://rfleshop.com/biking-and-riding/duranta-bicycle-price-in-bangladesh-2022\""
   ]
  },
  {
   "cell_type": "code",
   "execution_count": null,
   "id": "399139f6-6e4b-4dbb-af0c-f3fb96faaecc",
   "metadata": {
    "tags": []
   },
   "outputs": [],
   "source": [
    "# Passing the URL\n",
    "driver.get(url)"
   ]
  },
  {
   "cell_type": "code",
   "execution_count": null,
   "id": "dbd3764f-7652-47a6-b761-cca3df633c69",
   "metadata": {
    "tags": []
   },
   "outputs": [],
   "source": [
    "# Extracting data for one page\n",
    "\n",
    "durantaBike = []\n",
    "\n",
    "products = driver.find_elements('xpath', '//div[@class=\"ut2-gl__content content-on-hover\"]')\n",
    "\n",
    "for p_index, product in enumerate(products, 1):\n",
    "    #Find the elements within each product container\n",
    "    title_element = product.find_element('xpath', './/a[@class=\"product-title\"]')\n",
    "    title = title_element.get_attribute(\"title\") #Extract the title attribute value from the container\n",
    "    #Find the value where Try Except needed\n",
    "    try:\n",
    "        proDiscounts = driver.find_element('xpath', f'(.//div[@class=\"ty-product-labels__content\"])[{p_index}]') #Finding the value outsite the container\n",
    "        discount = proDiscounts.text\n",
    "    except:\n",
    "        discount = \"Not Available\"\n",
    "        \n",
    "    try:\n",
    "        pricesOriginal = driver.find_element('xpath', f'(.//span[contains(@id, \"sec_list_price\")])[{p_index}]') #Finding the value outsite the container\n",
    "    except:\n",
    "        pricesOriginal = driver.find_element('xpath', f'(.//span[contains(@id, \"sec_discounted_price\")])[{p_index}]') #Finding the value outsite the container\n",
    "        \n",
    "    #Find the regular values\n",
    "    availability = driver.find_element('xpath', f'(//div[@class=\"ty-control-group product-list-field\"]/span)[{p_index}]')\n",
    "    regularPrice = driver.find_element('xpath', f'(.//span[contains(@id, \"sec_discounted_price\")])[{p_index}]')\n",
    "    \n",
    "    bikeData = {\n",
    "        'originalPrices' : pricesOriginal.text,\n",
    "        'discounts' : discount,\n",
    "        'titles' : title,\n",
    "        'regularPrices' : regularPrice.text\n",
    "    }\n",
    "    durantaBike.append(bikeData)\n",
    "print(durantaBike)"
   ]
  },
  {
   "cell_type": "code",
   "execution_count": null,
   "id": "c5d94814-94d6-463d-8338-6ab554cb2d5d",
   "metadata": {},
   "outputs": [],
   "source": [
    "#Extracting the data into csv formate\n",
    "df = pd.DataFrame(durantaBike)\n",
    "df.to_csv('DurantaBike.csv', index = False)"
   ]
  },
  {
   "cell_type": "code",
   "execution_count": 23,
   "id": "e8c8dae8-ccfb-48a0-8c6a-b5e8308ffaa3",
   "metadata": {
    "tags": []
   },
   "outputs": [],
   "source": [
    "#Putting all codes togethe/ Fianl Code:\n",
    "\n",
    "# Importing the Necessary Library\n",
    "from selenium import webdriver\n",
    "from time import sleep\n",
    "import pandas as pd\n",
    "\n",
    "# Creating a driver Object\n",
    "driver = webdriver.Firefox()\n",
    "\n",
    "#Using for loop for all pages-\n",
    "durantaBike = []\n",
    "\n",
    "for page in range(1, 4):\n",
    "\n",
    "    # Declaring the URL\n",
    "    url = f\"https://rfleshop.com/biking-and-riding/duranta-bicycle-price-in-bangladesh-2022/page-{page}/\"\n",
    "\n",
    "    # Passing the URL\n",
    "    driver.get(url)\n",
    "    \n",
    "    # Giving Sleeping time to reload\n",
    "    sleep(5)\n",
    "\n",
    "    # Extracting data for one page\n",
    "\n",
    "    products = driver.find_elements('xpath', '//div[@class=\"ut2-gl__content content-on-hover\"]')\n",
    "\n",
    "    for p_index, product in enumerate(products, 1):\n",
    "        #Find the elements within each product container\n",
    "        title_element = product.find_element('xpath', './/a[@class=\"product-title\"]')\n",
    "        title = title_element.get_attribute(\"title\") #Extract the title attribute value from the container\n",
    "        #Find the value where Try Except needed\n",
    "        try:\n",
    "            proDiscounts = driver.find_element('xpath', f'(.//div[@class=\"ty-product-labels__content\"])[{p_index}]') #Finding the value outsite the container\n",
    "            discount = proDiscounts.text\n",
    "        except:\n",
    "            discount = \"Not Available\"\n",
    "\n",
    "        try:\n",
    "            pricesOriginal = driver.find_element('xpath', f'(.//span[contains(@id, \"sec_list_price\")])[{p_index}]') #Finding the value outsite the container\n",
    "        except:\n",
    "            pricesOriginal = driver.find_element('xpath', f'(.//span[contains(@id, \"sec_discounted_price\")])[{p_index}]') #Finding the value outsite the container\n",
    "\n",
    "        #Find the regular values\n",
    "        availability = driver.find_element('xpath', f'(//div[@class=\"ty-control-group product-list-field\"]/span)[{p_index}]')\n",
    "        discountPrice = driver.find_element('xpath', f'(.//span[contains(@id, \"sec_discounted_price\")])[{p_index}]')\n",
    "\n",
    "        bikeData = {\n",
    "            'titles' : title,\n",
    "            'availability' : availability.text,\n",
    "            'originalPrices' : pricesOriginal.text,\n",
    "            'discounts' : discount,\n",
    "            'discountPrices' : discountPrice.text\n",
    "        }\n",
    "        durantaBike.append(bikeData)\n",
    "\n",
    "#Extracting the data into csv formate\n",
    "df = pd.DataFrame(durantaBike)\n",
    "df.to_csv('DurantaBike.csv', index = False)\n",
    "\n",
    "#Quiting Browser\n",
    "driver.quit()"
   ]
  },
  {
   "cell_type": "code",
   "execution_count": null,
   "id": "940ed84f-92ce-492e-958f-d4626dc4ea8c",
   "metadata": {},
   "outputs": [],
   "source": []
  }
 ],
 "metadata": {
  "kernelspec": {
   "display_name": "Python 3 (ipykernel)",
   "language": "python",
   "name": "python3"
  },
  "language_info": {
   "codemirror_mode": {
    "name": "ipython",
    "version": 3
   },
   "file_extension": ".py",
   "mimetype": "text/x-python",
   "name": "python",
   "nbconvert_exporter": "python",
   "pygments_lexer": "ipython3",
   "version": "3.11.3"
  }
 },
 "nbformat": 4,
 "nbformat_minor": 5
}
